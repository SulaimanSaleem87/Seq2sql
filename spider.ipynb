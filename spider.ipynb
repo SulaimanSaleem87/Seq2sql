{
 "cells": [
  {
   "cell_type": "markdown",
   "id": "2c249a7d",
   "metadata": {},
   "source": [
    "# Seq to Sql translation "
   ]
  },
  {
   "cell_type": "code",
   "execution_count": 5,
   "id": "f91da8da",
   "metadata": {},
   "outputs": [],
   "source": [
    "from mpl_toolkits.mplot3d import Axes3D\n",
    "from sklearn.preprocessing import StandardScaler\n",
    "import matplotlib.pyplot as plt # plotting\n",
    "import numpy as np # linear algebra\n",
    "import os # accessing directory structure\n",
    "import pandas as pd # "
   ]
  },
  {
   "cell_type": "code",
   "execution_count": 6,
   "id": "ccfb725d",
   "metadata": {},
   "outputs": [
    {
     "name": "stdout",
     "output_type": "stream",
     "text": [
      "spider\\.DS_Store\n",
      "spider\\dev.json\n",
      "spider\\dev_gold.sql\n",
      "spider\\README.txt\n",
      "spider\\tables.json\n",
      "spider\\train_gold.sql\n",
      "spider\\train_others.json\n",
      "spider\\train_spider.json\n",
      "spider\\database\\academic\\academic.sqlite\n",
      "spider\\database\\academic\\schema.sql\n",
      "spider\\database\\activity_1\\activity_1.sqlite\n",
      "spider\\database\\activity_1\\schema.sql\n",
      "spider\\database\\aircraft\\aircraft.sqlite\n",
      "spider\\database\\aircraft\\schema.sql\n",
      "spider\\database\\allergy_1\\allergy_1.sqlite\n",
      "spider\\database\\allergy_1\\schema.sql\n",
      "spider\\database\\apartment_rentals\\apartment_rentals.sqlite\n",
      "spider\\database\\apartment_rentals\\schema.sql\n",
      "spider\\database\\architecture\\architecture.sqlite\n",
      "spider\\database\\architecture\\schema.sql\n",
      "spider\\database\\assets_maintenance\\assets_maintenance.sqlite\n",
      "spider\\database\\assets_maintenance\\schema.sql\n",
      "spider\\database\\baseball_1\\baseball_1.sqlite\n",
      "spider\\database\\baseball_1\\schema.sql\n",
      "spider\\database\\battle_death\\battle_death.sqlite\n",
      "spider\\database\\battle_death\\schema.sql\n",
      "spider\\database\\behavior_monitoring\\behavior_monitoring.sqlite\n",
      "spider\\database\\behavior_monitoring\\schema.sql\n",
      "spider\\database\\bike_1\\bike_1.sqlite\n",
      "spider\\database\\bike_1\\schema.sql\n",
      "spider\\database\\body_builder\\body_builder.sqlite\n",
      "spider\\database\\body_builder\\schema.sql\n",
      "spider\\database\\book_2\\book_2.sqlite\n",
      "spider\\database\\book_2\\schema.sql\n",
      "spider\\database\\browser_web\\browser_web.sqlite\n",
      "spider\\database\\browser_web\\schema.sql\n",
      "spider\\database\\candidate_poll\\candidate_poll.sqlite\n",
      "spider\\database\\candidate_poll\\schema.sql\n",
      "spider\\database\\car_1\\annotation.json\n",
      "spider\\database\\car_1\\car_1.json\n",
      "spider\\database\\car_1\\car_1.sql\n",
      "spider\\database\\car_1\\car_1.sqlite\n",
      "spider\\database\\car_1\\link.txt\n",
      "spider\\database\\car_1\\q.txt\n",
      "spider\\database\\car_1\\data_csv\\car-makers.csv\n",
      "spider\\database\\car_1\\data_csv\\car-names.csv\n",
      "spider\\database\\car_1\\data_csv\\cars-data.csv\n",
      "spider\\database\\car_1\\data_csv\\cars.desc\n",
      "spider\\database\\car_1\\data_csv\\continents.csv\n",
      "spider\\database\\car_1\\data_csv\\countries.csv\n",
      "spider\\database\\car_1\\data_csv\\model-list.csv\n",
      "spider\\database\\car_1\\data_csv\\README.CARS.TXT\n",
      "spider\\database\\chinook_1\\annotation.json\n",
      "spider\\database\\chinook_1\\chinook_1.sqlite\n",
      "spider\\database\\cinema\\cinema.sqlite\n",
      "spider\\database\\cinema\\schema.sql\n",
      "spider\\database\\city_record\\city_record.sqlite\n",
      "spider\\database\\city_record\\schema.sql\n",
      "spider\\database\\climbing\\climbing.sqlite\n",
      "spider\\database\\climbing\\schema.sql\n",
      "spider\\database\\club_1\\club_1.sqlite\n",
      "spider\\database\\club_1\\schema.sql\n",
      "spider\\database\\coffee_shop\\coffee_shop.sqlite\n",
      "spider\\database\\coffee_shop\\schema.sql\n",
      "spider\\database\\college_1\\college_1.sqlite\n",
      "spider\\database\\college_1\\link.txt\n",
      "spider\\database\\college_1\\TinyCollege.sql\n",
      "spider\\database\\college_2\\college_2.sqlite\n",
      "spider\\database\\college_2\\link.txt\n",
      "spider\\database\\college_2\\TextBookExampleSchema.sql\n",
      "spider\\database\\college_3\\college_3.sqlite\n",
      "spider\\database\\college_3\\schema.sql\n",
      "spider\\database\\company_1\\company_1.sqlite\n",
      "spider\\database\\company_1\\link.txt\n",
      "spider\\database\\company_employee\\company_employee.sqlite\n",
      "spider\\database\\company_employee\\schema.sql\n",
      "spider\\database\\company_office\\company_office.sqlite\n",
      "spider\\database\\company_office\\schema.sql\n",
      "spider\\database\\concert_singer\\concert_singer.sqlite\n",
      "spider\\database\\concert_singer\\schema.sql\n",
      "spider\\database\\county_public_safety\\county_public_safety.sqlite\n",
      "spider\\database\\county_public_safety\\schema.sql\n",
      "spider\\database\\course_teach\\course_teach.sqlite\n",
      "spider\\database\\course_teach\\schema.sql\n",
      "spider\\database\\cre_Docs_and_Epenses\\cre_Docs_and_Epenses.sqlite\n",
      "spider\\database\\cre_Docs_and_Epenses\\schema.sql\n",
      "spider\\database\\cre_Doc_Control_Systems\\cre_Doc_Control_Systems.sqlite\n",
      "spider\\database\\cre_Doc_Control_Systems\\schema.sql\n",
      "spider\\database\\cre_Doc_Template_Mgt\\cre_Doc_Template_Mgt.sqlite\n",
      "spider\\database\\cre_Doc_Template_Mgt\\schema.sql\n",
      "spider\\database\\cre_Doc_Tracking_DB\\cre_Doc_Tracking_DB.sqlite\n",
      "spider\\database\\cre_Doc_Tracking_DB\\schema.sql\n",
      "spider\\database\\cre_Drama_Workshop_Groups\\cre_Drama_Workshop_Groups.sqlite\n",
      "spider\\database\\cre_Drama_Workshop_Groups\\schema.sql\n",
      "spider\\database\\cre_Theme_park\\cre_Theme_park.sqlite\n",
      "spider\\database\\cre_Theme_park\\schema.sql\n",
      "spider\\database\\csu_1\\csu_1.sqlite\n",
      "spider\\database\\csu_1\\schema.sql\n",
      "spider\\database\\culture_company\\culture_company.sqlite\n",
      "spider\\database\\culture_company\\schema.sql\n",
      "spider\\database\\customers_and_addresses\\customers_and_addresses.sqlite\n",
      "spider\\database\\customers_and_addresses\\schema.sql\n",
      "spider\\database\\customers_and_invoices\\customers_and_invoices.sqlite\n",
      "spider\\database\\customers_and_invoices\\schema.sql\n",
      "spider\\database\\customers_and_products_contacts\\customers_and_products_contacts.sqlite\n",
      "spider\\database\\customers_and_products_contacts\\schema.sql\n",
      "spider\\database\\customers_campaigns_ecommerce\\customers_campaigns_ecommerce.sqlite\n",
      "spider\\database\\customers_campaigns_ecommerce\\schema.sql\n",
      "spider\\database\\customers_card_transactions\\customers_card_transactions.sqlite\n",
      "spider\\database\\customers_card_transactions\\schema.sql\n",
      "spider\\database\\customer_complaints\\customer_complaints.sqlite\n",
      "spider\\database\\customer_complaints\\schema.sql\n",
      "spider\\database\\customer_deliveries\\customer_deliveries.sqlite\n",
      "spider\\database\\customer_deliveries\\schema.sql\n",
      "spider\\database\\debate\\debate.sqlite\n",
      "spider\\database\\debate\\schema.sql\n",
      "spider\\database\\decoration_competition\\decoration_competition.sqlite\n",
      "spider\\database\\decoration_competition\\schema.sql\n",
      "spider\\database\\department_management\\department_management.sqlite\n",
      "spider\\database\\department_management\\schema.sql\n",
      "spider\\database\\department_store\\department_store.sqlite\n",
      "spider\\database\\department_store\\schema.sql\n",
      "spider\\database\\device\\device.sqlite\n",
      "spider\\database\\device\\schema.sql\n",
      "spider\\database\\document_management\\document_management.sqlite\n",
      "spider\\database\\document_management\\schema.sql\n",
      "spider\\database\\dog_kennels\\dog_kennels.sqlite\n",
      "spider\\database\\dog_kennels\\schema.sql\n",
      "spider\\database\\dorm_1\\dorm_1.sqlite\n",
      "spider\\database\\dorm_1\\schema.sql\n",
      "spider\\database\\driving_school\\driving_school.sqlite\n",
      "spider\\database\\driving_school\\schema.sql\n",
      "spider\\database\\election\\election.sqlite\n",
      "spider\\database\\election\\schema.sql\n",
      "spider\\database\\election_representative\\election_representative.sqlite\n",
      "spider\\database\\election_representative\\schema.sql\n",
      "spider\\database\\employee_hire_evaluation\\employee_hire_evaluation.sqlite\n",
      "spider\\database\\employee_hire_evaluation\\schema.sql\n",
      "spider\\database\\entertainment_awards\\entertainment_awards.sqlite\n",
      "spider\\database\\entertainment_awards\\schema.sql\n",
      "spider\\database\\entrepreneur\\entrepreneur.sqlite\n",
      "spider\\database\\entrepreneur\\schema.sql\n",
      "spider\\database\\epinions_1\\epinions_1.sqlite\n",
      "spider\\database\\e_government\\e_government.sqlite\n",
      "spider\\database\\e_government\\schema.sql\n",
      "spider\\database\\e_learning\\e_learning.sqlite\n",
      "spider\\database\\e_learning\\schema.sql\n",
      "spider\\database\\farm\\farm.sqlite\n",
      "spider\\database\\farm\\schema.sql\n",
      "spider\\database\\film_rank\\film_rank.sqlite\n",
      "spider\\database\\film_rank\\schema.sql\n",
      "spider\\database\\flight_1\\flight_1.sqlite\n",
      "spider\\database\\flight_1\\schema.sql\n",
      "spider\\database\\flight_2\\annotation.json\n",
      "spider\\database\\flight_2\\flight_2.json\n",
      "spider\\database\\flight_2\\flight_2.sql\n",
      "spider\\database\\flight_2\\flight_2.sqlite\n",
      "spider\\database\\flight_2\\link.txt\n",
      "spider\\database\\flight_2\\q.txt\n",
      "spider\\database\\flight_2\\data_csv\\airlines.csv\n",
      "spider\\database\\flight_2\\data_csv\\airports100.csv\n",
      "spider\\database\\flight_2\\data_csv\\flights.csv\n",
      "spider\\database\\flight_2\\data_csv\\README.AIRLINES.txt\n",
      "spider\\database\\flight_4\\flight_4.sqlite\n",
      "spider\\database\\flight_4\\link.txt\n",
      "spider\\database\\flight_4\\sql.txt\n",
      "spider\\database\\flight_company\\flight_company.sqlite\n",
      "spider\\database\\flight_company\\schema.sql\n",
      "spider\\database\\formula_1\\annotation.json\n",
      "spider\\database\\formula_1\\formula_1.splite\n",
      "spider\\database\\formula_1\\formula_1.sql\n",
      "spider\\database\\formula_1\\formula_1.sqlite\n",
      "spider\\database\\formula_1\\data_csv\\circuits.csv\n",
      "spider\\database\\formula_1\\data_csv\\constructorResults.csv\n",
      "spider\\database\\formula_1\\data_csv\\constructors.csv\n",
      "spider\\database\\formula_1\\data_csv\\constructorStandings.csv\n",
      "spider\\database\\formula_1\\data_csv\\drivers.csv\n",
      "spider\\database\\formula_1\\data_csv\\driverStandings.csv\n",
      "spider\\database\\formula_1\\data_csv\\lapTimes.csv\n",
      "spider\\database\\formula_1\\data_csv\\pitStops.csv\n",
      "spider\\database\\formula_1\\data_csv\\qualifying.csv\n",
      "spider\\database\\formula_1\\data_csv\\races.csv\n",
      "spider\\database\\formula_1\\data_csv\\results.csv\n",
      "spider\\database\\formula_1\\data_csv\\seasons.csv\n",
      "spider\\database\\formula_1\\data_csv\\status.csv\n",
      "spider\\database\\game_1\\game_1.sqlite\n",
      "spider\\database\\game_1\\schema.sql\n",
      "spider\\database\\game_injury\\game_injury.sqlite\n",
      "spider\\database\\game_injury\\schema.sql\n",
      "spider\\database\\gas_company\\gas_company.sqlite\n",
      "spider\\database\\gas_company\\schema.sql\n",
      "spider\\database\\geo\\geo.sqlite\n",
      "spider\\database\\geo\\schema.sql\n",
      "spider\\database\\gymnast\\gymnast.sqlite\n",
      "spider\\database\\gymnast\\schema.sql\n",
      "spider\\database\\hospital_1\\hospital_1.sqlite\n",
      "spider\\database\\hospital_1\\schema.sql\n",
      "spider\\database\\hr_1\\hr_1.sqlite\n",
      "spider\\database\\hr_1\\schema.sql\n",
      "spider\\database\\icfp_1\\icfp_1.sqlite\n",
      "spider\\database\\icfp_1\\link.txt\n",
      "spider\\database\\icfp_1\\q.txt\n",
      "spider\\database\\imdb\\imdb.sqlite\n",
      "spider\\database\\imdb\\schema.sql\n",
      "spider\\database\\inn_1\\annotation.json\n",
      "spider\\database\\inn_1\\change_date.py\n",
      "spider\\database\\inn_1\\inn_1.sql\n",
      "spider\\database\\inn_1\\inn_1.sqlite\n",
      "spider\\database\\inn_1\\link.txt\n",
      "spider\\database\\inn_1\\q.txt\n",
      "spider\\database\\inn_1\\data_csv\\README.INN.TXT\n",
      "spider\\database\\inn_1\\data_csv\\Reservations.csv\n",
      "spider\\database\\inn_1\\data_csv\\Reservations_t.csv\n",
      "spider\\database\\inn_1\\data_csv\\Rooms.csv\n",
      "spider\\database\\insurance_and_eClaims\\insurance_and_eClaims.sqlite\n",
      "spider\\database\\insurance_and_eClaims\\schema.sql\n",
      "spider\\database\\insurance_fnol\\insurance_fnol.sqlite\n",
      "spider\\database\\insurance_fnol\\schema.sql\n",
      "spider\\database\\insurance_policies\\insurance_policies.sqlite\n",
      "spider\\database\\insurance_policies\\schema.sql\n",
      "spider\\database\\journal_committee\\journal_committee.sqlite\n",
      "spider\\database\\journal_committee\\schema.sql\n",
      "spider\\database\\loan_1\\loan_1.sqlite\n",
      "spider\\database\\loan_1\\schema.sql\n",
      "spider\\database\\local_govt_and_lot\\local_govt_and_lot.sqlite\n",
      "spider\\database\\local_govt_and_lot\\schema.sql\n",
      "spider\\database\\local_govt_in_alabama\\local_govt_in_alabama.sqlite\n",
      "spider\\database\\local_govt_in_alabama\\schema.sql\n",
      "spider\\database\\local_govt_mdm\\local_govt_mdm.sqlite\n",
      "spider\\database\\local_govt_mdm\\schema.sql\n",
      "spider\\database\\machine_repair\\machine_repair.sqlite\n",
      "spider\\database\\machine_repair\\schema.sql\n",
      "spider\\database\\manufactory_1\\manufactory_1.sqlite\n",
      "spider\\database\\manufactory_1\\schema.sql\n",
      "spider\\database\\manufacturer\\manufacturer.sqlite\n",
      "spider\\database\\manufacturer\\schema.sql\n",
      "spider\\database\\match_season\\match_season.sqlite\n",
      "spider\\database\\match_season\\schema.sql\n",
      "spider\\database\\medicine_enzyme_interaction\\medicine_enzyme_interaction.sqlite\n",
      "spider\\database\\medicine_enzyme_interaction\\schema.sql\n",
      "spider\\database\\mountain_photos\\mountain_photos.sqlite\n",
      "spider\\database\\mountain_photos\\schema.sql\n",
      "spider\\database\\movie_1\\movie_1.sqlite\n",
      "spider\\database\\movie_1\\schema.sql\n",
      "spider\\database\\museum_visit\\museum_visit.sqlite\n",
      "spider\\database\\museum_visit\\schema.sql\n",
      "spider\\database\\musical\\musical.sqlite\n",
      "spider\\database\\musical\\schema.sql\n",
      "spider\\database\\music_1\\music_1.sqlite\n",
      "spider\\database\\music_1\\schema.sql\n",
      "spider\\database\\music_2\\music_2.sqlite\n",
      "spider\\database\\music_2\\schema.sql\n",
      "spider\\database\\music_4\\music_4.sqlite\n",
      "spider\\database\\music_4\\schema.sql\n",
      "spider\\database\\network_1\\network_1.sqlite\n",
      "spider\\database\\network_1\\schema.sql\n",
      "spider\\database\\network_2\\network_2.sqlite\n",
      "spider\\database\\network_2\\schema.sql\n",
      "spider\\database\\news_report\\news_report.sqlite\n",
      "spider\\database\\news_report\\schema.sql\n",
      "spider\\database\\orchestra\\orchestra.sqlite\n",
      "spider\\database\\orchestra\\schema.sql\n",
      "spider\\database\\party_host\\party_host.sqlite\n",
      "spider\\database\\party_host\\schema.sql\n",
      "spider\\database\\party_people\\party_people.sqlite\n",
      "spider\\database\\party_people\\schema.sql\n",
      "spider\\database\\performance_attendance\\performance_attendance.sqlite\n",
      "spider\\database\\performance_attendance\\schema.sql\n",
      "spider\\database\\perpetrator\\perpetrator.sqlite\n",
      "spider\\database\\perpetrator\\schema.sql\n",
      "spider\\database\\pets_1\\pets_1.sqlite\n",
      "spider\\database\\pets_1\\schema.sql\n",
      "spider\\database\\phone_1\\phone_1.sqlite\n",
      "spider\\database\\phone_1\\schema.sql\n",
      "spider\\database\\phone_market\\phone_market.sqlite\n",
      "spider\\database\\phone_market\\schema.sql\n",
      "spider\\database\\pilot_record\\pilot_record.sqlite\n",
      "spider\\database\\pilot_record\\schema.sql\n",
      "spider\\database\\poker_player\\poker_player.sqlite\n",
      "spider\\database\\poker_player\\schema.sql\n",
      "spider\\database\\products_for_hire\\products_for_hire.sqlite\n",
      "spider\\database\\products_for_hire\\schema.sql\n",
      "spider\\database\\products_gen_characteristics\\products_gen_characteristics.sqlite\n",
      "spider\\database\\products_gen_characteristics\\schema.sql\n",
      "spider\\database\\product_catalog\\product_catalog.sqlite\n",
      "spider\\database\\product_catalog\\schema.sql\n",
      "spider\\database\\program_share\\program_share.sqlite\n",
      "spider\\database\\program_share\\schema.sql\n",
      "spider\\database\\protein_institute\\protein_institute.sqlite\n",
      "spider\\database\\protein_institute\\schema.sql\n",
      "spider\\database\\race_track\\race_track.sqlite\n",
      "spider\\database\\race_track\\schema.sql\n",
      "spider\\database\\railway\\railway.sqlite\n",
      "spider\\database\\railway\\schema.sql\n",
      "spider\\database\\real_estate_properties\\real_estate_properties.sqlite\n",
      "spider\\database\\real_estate_properties\\schema.sql\n",
      "spider\\database\\restaurants\\restaurants.sqlite\n",
      "spider\\database\\restaurants\\schema.sql\n",
      "spider\\database\\restaurant_1\\restaurant_1.sqlite\n",
      "spider\\database\\restaurant_1\\schema.sql\n",
      "spider\\database\\riding_club\\riding_club.sqlite\n",
      "spider\\database\\riding_club\\schema.sql\n",
      "spider\\database\\roller_coaster\\roller_coaster.sqlite\n",
      "spider\\database\\roller_coaster\\schema.sql\n",
      "spider\\database\\sakila_1\\sakila_1.sqlite\n",
      "spider\\database\\sakila_1\\schema.sql\n",
      "spider\\database\\scholar\\schema.sql\n",
      "spider\\database\\scholar\\scholar.sqlite\n",
      "spider\\database\\school_bus\\schema.sql\n",
      "spider\\database\\school_bus\\school_bus.sqlite\n",
      "spider\\database\\school_finance\\schema.sql\n",
      "spider\\database\\school_finance\\school_finance.sqlite\n",
      "spider\\database\\school_player\\schema.sql\n",
      "spider\\database\\school_player\\school_player.sqlite\n",
      "spider\\database\\scientist_1\\schema.sql\n",
      "spider\\database\\scientist_1\\scientist_1.sqlite\n",
      "spider\\database\\ship_1\\schema.sql\n",
      "spider\\database\\ship_1\\ship_1.sqlite\n",
      "spider\\database\\ship_mission\\schema.sql\n",
      "spider\\database\\ship_mission\\ship_mission.sqlite\n",
      "spider\\database\\shop_membership\\schema.sql\n",
      "spider\\database\\shop_membership\\shop_membership.sqlite\n",
      "spider\\database\\singer\\schema.sql\n",
      "spider\\database\\singer\\singer.sqlite\n",
      "spider\\database\\small_bank_1\\small_bank_1.sqlite\n",
      "spider\\database\\soccer_1\\schema.sql\n",
      "spider\\database\\soccer_1\\soccer_1.sqlite\n",
      "spider\\database\\soccer_2\\schema.sql\n",
      "spider\\database\\soccer_2\\soccer_2.sqlite\n",
      "spider\\database\\solvency_ii\\schema.sql\n",
      "spider\\database\\solvency_ii\\solvency_ii.sqlite\n",
      "spider\\database\\sports_competition\\schema.sql\n",
      "spider\\database\\sports_competition\\sports_competition.sqlite\n",
      "spider\\database\\station_weather\\schema.sql\n",
      "spider\\database\\station_weather\\station_weather.sqlite\n",
      "spider\\database\\store_1\\schema.sql\n",
      "spider\\database\\store_1\\store_1.sqlite\n",
      "spider\\database\\store_product\\schema.sql\n",
      "spider\\database\\store_product\\store_product.sqlite\n",
      "spider\\database\\storm_record\\schema.sql\n",
      "spider\\database\\storm_record\\storm_record.sqlite\n",
      "spider\\database\\student_1\\annotation.json\n",
      "spider\\database\\student_1\\link.txt\n",
      "spider\\database\\student_1\\q.txt\n",
      "spider\\database\\student_1\\student_1.sql\n",
      "spider\\database\\student_1\\student_1.sqlite\n",
      "spider\\database\\student_1\\data_csv\\list.csv\n",
      "spider\\database\\student_1\\data_csv\\README.STUDENTS.TXT\n",
      "spider\\database\\student_1\\data_csv\\teachers.csv\n",
      "spider\\database\\student_assessment\\schema.sql\n",
      "spider\\database\\student_assessment\\student_assessment.sqlite\n",
      "spider\\database\\student_transcripts_tracking\\schema.sql\n",
      "spider\\database\\student_transcripts_tracking\\student_transcripts_tracking.sqlite\n",
      "spider\\database\\swimming\\schema.sql\n",
      "spider\\database\\swimming\\swimming.sqlite\n",
      "spider\\database\\theme_gallery\\schema.sql\n",
      "spider\\database\\theme_gallery\\theme_gallery.sqlite\n",
      "spider\\database\\tracking_grants_for_research\\schema.sql\n",
      "spider\\database\\tracking_grants_for_research\\tracking_grants_for_research.sqlite\n",
      "spider\\database\\tracking_orders\\schema.sql\n",
      "spider\\database\\tracking_orders\\tracking_orders.sqlite\n",
      "spider\\database\\tracking_share_transactions\\schema.sql\n",
      "spider\\database\\tracking_share_transactions\\tracking_share_transactions.sqlite\n",
      "spider\\database\\tracking_software_problems\\schema.sql\n",
      "spider\\database\\tracking_software_problems\\tracking_software_problems.sqlite\n",
      "spider\\database\\train_station\\schema.sql\n",
      "spider\\database\\train_station\\train_station.sqlite\n",
      "spider\\database\\tvshow\\schema.sql\n",
      "spider\\database\\tvshow\\tvshow.sqlite\n",
      "spider\\database\\twitter_1\\twitter_1.sqlite\n",
      "spider\\database\\twitter_1\\queries\\oracle-dialects.xml\n",
      "spider\\database\\twitter_1\\queries\\postgres-dialects.xml\n",
      "spider\\database\\twitter_1\\queries\\sqlserver-dialects.xml\n",
      "spider\\database\\university_basketball\\schema.sql\n",
      "spider\\database\\university_basketball\\university_basketball.sqlite\n",
      "spider\\database\\voter_1\\voter_1.sqlite\n",
      "spider\\database\\voter_2\\schema.sql\n",
      "spider\\database\\voter_2\\voter_2.sqlite\n",
      "spider\\database\\wedding\\schema.sql\n",
      "spider\\database\\wedding\\wedding.sqlite\n",
      "spider\\database\\wine_1\\annotation.json\n",
      "spider\\database\\wine_1\\link.txt\n",
      "spider\\database\\wine_1\\q.txt\n",
      "spider\\database\\wine_1\\wine_1.sql\n",
      "spider\\database\\wine_1\\wine_1.sqlite\n",
      "spider\\database\\wine_1\\data_csv\\appellations.csv\n",
      "spider\\database\\wine_1\\data_csv\\grapes.csv\n",
      "spider\\database\\wine_1\\data_csv\\README.WINE.txt\n",
      "spider\\database\\wine_1\\data_csv\\wine.csv\n",
      "spider\\database\\workshop_paper\\schema.sql\n",
      "spider\\database\\workshop_paper\\workshop_paper.sqlite\n",
      "spider\\database\\world_1\\world_1.json\n",
      "spider\\database\\world_1\\world_1.sqlite\n",
      "spider\\database\\wrestler\\schema.sql\n",
      "spider\\database\\wrestler\\wrestler.sqlite\n",
      "spider\\database\\wta_1\\wta_1.sql\n",
      "spider\\database\\wta_1\\wta_1.sqlite\n",
      "spider\\database\\yelp\\schema.sql\n",
      "spider\\database\\yelp\\yelp.sqlite\n"
     ]
    }
   ],
   "source": [
    "for dirname, _, filenames in os.walk('spider'):\n",
    "    for filename in filenames:\n",
    "        print(os.path.join(dirname, filename))"
   ]
  },
  {
   "cell_type": "markdown",
   "id": "942bb894",
   "metadata": {},
   "source": [
    "# Distribution graphs (histogram/bar graph) of column data"
   ]
  },
  {
   "cell_type": "code",
   "execution_count": 7,
   "id": "4fa4cc0f",
   "metadata": {},
   "outputs": [],
   "source": [
    "\n",
    "def plotPerColumnDistribution(df, nGraphShown, nGraphPerRow):\n",
    "    nunique = df.nunique()\n",
    "    df = df[[col for col in df if nunique[col] > 1 and nunique[col] < 50]] # For displaying purposes, pick columns that have between 1 and 50 unique values\n",
    "    nRow, nCol = df.shape\n",
    "    columnNames = list(df)\n",
    "    nGraphRow = (nCol + nGraphPerRow - 1) / nGraphPerRow\n",
    "    plt.figure(num = None, figsize = (6 * nGraphPerRow, 8 * nGraphRow), dpi = 80, facecolor = 'w', edgecolor = 'k')\n",
    "    for i in range(min(nCol, nGraphShown)):\n",
    "        plt.subplot(nGraphRow, nGraphPerRow, i + 1)\n",
    "        columnDf = df.iloc[:, i]\n",
    "        if (not np.issubdtype(type(columnDf.iloc[0]), np.number)):\n",
    "            valueCounts = columnDf.value_counts()\n",
    "            valueCounts.plot.bar()\n",
    "        else:\n",
    "            columnDf.hist()\n",
    "        plt.ylabel('counts')\n",
    "        plt.xticks(rotation = 90)\n",
    "        plt.title(f'{columnNames[i]} (column {i})')\n",
    "    plt.tight_layout(pad = 1.0, w_pad = 1.0, h_pad = 1.0)\n",
    "    plt.show()"
   ]
  },
  {
   "cell_type": "markdown",
   "id": "dee50c9d",
   "metadata": {},
   "source": [
    "# Correlation matrix"
   ]
  },
  {
   "cell_type": "code",
   "execution_count": 8,
   "id": "9f8feb6a",
   "metadata": {},
   "outputs": [],
   "source": [
    "\n",
    "def plotCorrelationMatrix(df, graphWidth):\n",
    "    filename = df.dataframeName\n",
    "    df = df.dropna('columns') # drop columns with NaN\n",
    "    df = df[[col for col in df if df[col].nunique() > 1]] # keep columns where there are more than 1 unique values\n",
    "    if df.shape[1] < 2:\n",
    "        print(f'No correlation plots shown: The number of non-NaN or constant columns ({df.shape[1]}) is less than 2')\n",
    "        return\n",
    "    corr = df.corr()\n",
    "    plt.figure(num=None, figsize=(graphWidth, graphWidth), dpi=80, facecolor='w', edgecolor='k')\n",
    "    corrMat = plt.matshow(corr, fignum = 1)\n",
    "    plt.xticks(range(len(corr.columns)), corr.columns, rotation=90)\n",
    "    plt.yticks(range(len(corr.columns)), corr.columns)\n",
    "    plt.gca().xaxis.tick_bottom()\n",
    "    plt.colorbar(corrMat)\n",
    "    plt.title(f'Correlation Matrix for {filename}', fontsize=15)\n",
    "    plt.show()"
   ]
  },
  {
   "cell_type": "markdown",
   "id": "e6771d0c",
   "metadata": {},
   "source": [
    "# Scatter and density plots"
   ]
  },
  {
   "cell_type": "code",
   "execution_count": 9,
   "id": "fdc78e6a",
   "metadata": {},
   "outputs": [],
   "source": [
    "\n",
    "def plotScatterMatrix(df, plotSize, textSize):\n",
    "    df = df.select_dtypes(include =[np.number]) # keep only numerical columns\n",
    "    # Remove rows and columns that would lead to df being singular\n",
    "    df = df.dropna('columns')\n",
    "    df = df[[col for col in df if df[col].nunique() > 1]] # keep columns where there are more than 1 unique values\n",
    "    columnNames = list(df)\n",
    "    if len(columnNames) > 10: # reduce the number of columns for matrix inversion of kernel density plots\n",
    "        columnNames = columnNames[:10]\n",
    "    df = df[columnNames]\n",
    "    ax = pd.plotting.scatter_matrix(df, alpha=0.75, figsize=[plotSize, plotSize], diagonal='kde')\n",
    "    corrs = df.corr().values\n",
    "    for i, j in zip(*plt.np.triu_indices_from(ax, k = 1)):\n",
    "        ax[i, j].annotate('Corr. coef = %.3f' % corrs[i, j], (0.8, 0.2), xycoords='axes fraction', ha='center', va='center', size=textSize)\n",
    "    plt.suptitle('Scatter and Density Plot')\n",
    "    plt.show()"
   ]
  },
  {
   "cell_type": "markdown",
   "id": "5905ab1f",
   "metadata": {},
   "source": [
    "# model-list.csv may have more rows in reality, but we are only loading/previewing the first 1000 rows"
   ]
  },
  {
   "cell_type": "code",
   "execution_count": 27,
   "id": "fa414f6c",
   "metadata": {},
   "outputs": [
    {
     "name": "stdout",
     "output_type": "stream",
     "text": [
      "There are 36 rows and 3 columns\n"
     ]
    }
   ],
   "source": [
    "nRowsRead = 1000 # specify 'None' if want to read whole file\n",
    "\n",
    "ml = pd.read_csv('C:\\\\Users\\\\Hp\\\\Documents\\\\spider\\\\database\\\\car_1\\\\data_csv\\\\model-list.csv', delimiter=',', nrows = nRowsRead)\n",
    "ml.dataframeName = 'model-list.csv'\n",
    "nRow, nCol = ml.shape\n",
    "print(f'There are {nRow} rows and {nCol} columns')"
   ]
  },
  {
   "cell_type": "code",
   "execution_count": null,
   "id": "4cfe8dca",
   "metadata": {},
   "outputs": [],
   "source": [
    "ml.head(5)"
   ]
  },
  {
   "cell_type": "code",
   "execution_count": null,
   "id": "751a331e",
   "metadata": {},
   "outputs": [],
   "source": [
    "plotPerColumnDistribution(ml, 10, 5)"
   ]
  },
  {
   "cell_type": "markdown",
   "id": "b2ecfb96",
   "metadata": {},
   "source": [
    "# model-list.csv may have more rows in reality, but we are only loading/previewing the first 1000 rows"
   ]
  },
  {
   "cell_type": "code",
   "execution_count": 28,
   "id": "53e29151",
   "metadata": {},
   "outputs": [
    {
     "name": "stdout",
     "output_type": "stream",
     "text": [
      "There are 15 rows and 3 columns\n"
     ]
    }
   ],
   "source": [
    "nRowsRead = 1000 # specify 'None' if want to read whole file\n",
    "df2 = pd.read_csv('C:\\\\Users\\\\Hp\\\\Documents\\\\spider\\\\database\\\\car_1\\\\data_csv\\\\countries.csv', delimiter=',', nrows = nRowsRead)\n",
    "df2.dataframeName = 'countries.csv'\n",
    "nRow, nCol = df2.shape\n",
    "print(f'There are {nRow} rows and {nCol} columns')"
   ]
  },
  {
   "cell_type": "code",
   "execution_count": 29,
   "id": "51c63dd2",
   "metadata": {},
   "outputs": [
    {
     "data": {
      "text/html": [
       "<div>\n",
       "<style scoped>\n",
       "    .dataframe tbody tr th:only-of-type {\n",
       "        vertical-align: middle;\n",
       "    }\n",
       "\n",
       "    .dataframe tbody tr th {\n",
       "        vertical-align: top;\n",
       "    }\n",
       "\n",
       "    .dataframe thead th {\n",
       "        text-align: right;\n",
       "    }\n",
       "</style>\n",
       "<table border=\"1\" class=\"dataframe\">\n",
       "  <thead>\n",
       "    <tr style=\"text-align: right;\">\n",
       "      <th></th>\n",
       "      <th>CountryId</th>\n",
       "      <th>CountryName</th>\n",
       "      <th>Continent</th>\n",
       "    </tr>\n",
       "  </thead>\n",
       "  <tbody>\n",
       "    <tr>\n",
       "      <th>0</th>\n",
       "      <td>1</td>\n",
       "      <td>'usa'</td>\n",
       "      <td>1</td>\n",
       "    </tr>\n",
       "    <tr>\n",
       "      <th>1</th>\n",
       "      <td>2</td>\n",
       "      <td>'germany'</td>\n",
       "      <td>2</td>\n",
       "    </tr>\n",
       "    <tr>\n",
       "      <th>2</th>\n",
       "      <td>3</td>\n",
       "      <td>'france'</td>\n",
       "      <td>2</td>\n",
       "    </tr>\n",
       "    <tr>\n",
       "      <th>3</th>\n",
       "      <td>4</td>\n",
       "      <td>'japan'</td>\n",
       "      <td>3</td>\n",
       "    </tr>\n",
       "    <tr>\n",
       "      <th>4</th>\n",
       "      <td>5</td>\n",
       "      <td>'italy'</td>\n",
       "      <td>2</td>\n",
       "    </tr>\n",
       "  </tbody>\n",
       "</table>\n",
       "</div>"
      ],
      "text/plain": [
       "   CountryId CountryName  Continent\n",
       "0          1       'usa'          1\n",
       "1          2   'germany'          2\n",
       "2          3    'france'          2\n",
       "3          4     'japan'          3\n",
       "4          5     'italy'          2"
      ]
     },
     "execution_count": 29,
     "metadata": {},
     "output_type": "execute_result"
    }
   ],
   "source": [
    "df2.head(5)"
   ]
  },
  {
   "cell_type": "code",
   "execution_count": 30,
   "id": "c48e4145",
   "metadata": {},
   "outputs": [
    {
     "name": "stderr",
     "output_type": "stream",
     "text": [
      "C:\\Users\\Hp\\AppData\\Local\\Temp/ipykernel_10884/2490170222.py:9: MatplotlibDeprecationWarning: Passing non-integers as three-element position specification is deprecated since 3.3 and will be removed two minor releases later.\n",
      "  plt.subplot(nGraphRow, nGraphPerRow, i + 1)\n",
      "C:\\Users\\Hp\\AppData\\Local\\Temp/ipykernel_10884/2490170222.py:9: MatplotlibDeprecationWarning: Passing non-integers as three-element position specification is deprecated since 3.3 and will be removed two minor releases later.\n",
      "  plt.subplot(nGraphRow, nGraphPerRow, i + 1)\n"
     ]
    },
    {
     "data": {
      "image/png": "[encoded data removed]",
      "text/plain": [
       "<Figure size 2400x896 with 3 Axes>"
      ]
     },
     "metadata": {},
     "output_type": "display_data"
    }
   ],
   "source": [
    "plotPerColumnDistribution(df2, 10, 5)"
   ]
  },
  {
   "cell_type": "code",
   "execution_count": 31,
   "id": "af9b1b30",
   "metadata": {},
   "outputs": [
    {
     "name": "stdout",
     "output_type": "stream",
     "text": [
      "There are 23 rows and 4 columns\n"
     ]
    }
   ],
   "source": [
    "nRowsRead = 1000 # specify 'None' if want to read whole file\n",
    "# car-makers.csv may have more rows in reality, but we are only loading/previewing the first 1000 rows\n",
    "df3 = pd.read_csv('C:\\\\Users\\\\Hp\\\\Documents\\\\spider\\\\database\\\\car_1\\\\data_csv\\\\car-makers.csv', delimiter=',', nrows = nRowsRead)\n",
    "df3.dataframeName = 'car-makers.csv'\n",
    "nRow, nCol = df3.shape\n",
    "print(f'There are {nRow} rows and {nCol} columns')"
   ]
  },
  {
   "cell_type": "code",
   "execution_count": 32,
   "id": "f02ca594",
   "metadata": {},
   "outputs": [
    {
     "data": {
      "text/html": [
       "<div>\n",
       "<style scoped>\n",
       "    .dataframe tbody tr th:only-of-type {\n",
       "        vertical-align: middle;\n",
       "    }\n",
       "\n",
       "    .dataframe tbody tr th {\n",
       "        vertical-align: top;\n",
       "    }\n",
       "\n",
       "    .dataframe thead th {\n",
       "        text-align: right;\n",
       "    }\n",
       "</style>\n",
       "<table border=\"1\" class=\"dataframe\">\n",
       "  <thead>\n",
       "    <tr style=\"text-align: right;\">\n",
       "      <th></th>\n",
       "      <th>Id</th>\n",
       "      <th>Maker</th>\n",
       "      <th>FullName</th>\n",
       "      <th>Country</th>\n",
       "    </tr>\n",
       "  </thead>\n",
       "  <tbody>\n",
       "    <tr>\n",
       "      <th>0</th>\n",
       "      <td>1</td>\n",
       "      <td>'amc'</td>\n",
       "      <td>'American Motor Company'</td>\n",
       "      <td>1.0</td>\n",
       "    </tr>\n",
       "    <tr>\n",
       "      <th>1</th>\n",
       "      <td>2</td>\n",
       "      <td>'volkswagen'</td>\n",
       "      <td>'Volkswagen'</td>\n",
       "      <td>2.0</td>\n",
       "    </tr>\n",
       "    <tr>\n",
       "      <th>2</th>\n",
       "      <td>3</td>\n",
       "      <td>'bmw'</td>\n",
       "      <td>'BMW'</td>\n",
       "      <td>2.0</td>\n",
       "    </tr>\n",
       "    <tr>\n",
       "      <th>3</th>\n",
       "      <td>4</td>\n",
       "      <td>'gm'</td>\n",
       "      <td>'General Motors'</td>\n",
       "      <td>1.0</td>\n",
       "    </tr>\n",
       "    <tr>\n",
       "      <th>4</th>\n",
       "      <td>5</td>\n",
       "      <td>'ford'</td>\n",
       "      <td>'Ford Motor Company'</td>\n",
       "      <td>1.0</td>\n",
       "    </tr>\n",
       "  </tbody>\n",
       "</table>\n",
       "</div>"
      ],
      "text/plain": [
       "   Id         Maker                  FullName  Country\n",
       "0   1         'amc'  'American Motor Company'      1.0\n",
       "1   2  'volkswagen'              'Volkswagen'      2.0\n",
       "2   3         'bmw'                     'BMW'      2.0\n",
       "3   4          'gm'          'General Motors'      1.0\n",
       "4   5        'ford'      'Ford Motor Company'      1.0"
      ]
     },
     "execution_count": 32,
     "metadata": {},
     "output_type": "execute_result"
    }
   ],
   "source": [
    "df3.head(5)"
   ]
  },
  {
   "cell_type": "code",
   "execution_count": 33,
   "id": "0eedc384",
   "metadata": {},
   "outputs": [
    {
     "name": "stderr",
     "output_type": "stream",
     "text": [
      "C:\\Users\\Hp\\AppData\\Local\\Temp/ipykernel_10884/2490170222.py:9: MatplotlibDeprecationWarning: Passing non-integers as three-element position specification is deprecated since 3.3 and will be removed two minor releases later.\n",
      "  plt.subplot(nGraphRow, nGraphPerRow, i + 1)\n",
      "C:\\Users\\Hp\\AppData\\Local\\Temp/ipykernel_10884/2490170222.py:9: MatplotlibDeprecationWarning: Passing non-integers as three-element position specification is deprecated since 3.3 and will be removed two minor releases later.\n",
      "  plt.subplot(nGraphRow, nGraphPerRow, i + 1)\n",
      "C:\\Users\\Hp\\AppData\\Local\\Temp/ipykernel_10884/2490170222.py:9: MatplotlibDeprecationWarning: Passing non-integers as three-element position specification is deprecated since 3.3 and will be removed two minor releases later.\n",
      "  plt.subplot(nGraphRow, nGraphPerRow, i + 1)\n"
     ]
    },
    {
     "data": {
      "image/png": "[encoded data removed]",
      "text/plain": [
       "<Figure size 2400x1024 with 4 Axes>"
      ]
     },
     "metadata": {},
     "output_type": "display_data"
    }
   ],
   "source": [
    "plotPerColumnDistribution(df3, 10, 5)"
   ]
  },
  {
   "cell_type": "code",
   "execution_count": 15,
   "id": "32a1f532",
   "metadata": {},
   "outputs": [
    {
     "name": "stdout",
     "output_type": "stream",
     "text": [
      "There are 406 rows and 3 columns\n"
     ]
    }
   ],
   "source": [
    "nRowsRead = 1000 # specify 'None' if want to read whole file\n",
    "# car-makers.csv may have more rows in reality, but we are only loading/previewing the first 1000 rows\n",
    "df4 = pd.read_csv('C:\\\\Users\\\\Hp\\\\Documents\\\\spider\\\\database\\\\car_1\\\\data_csv\\\\car-names.csv', delimiter=',', nrows = nRowsRead)\n",
    "df4.dataframeName = 'car-names.csv'\n",
    "nRow, nCol = df4.shape\n",
    "print(f'There are {nRow} rows and {nCol} columns')"
   ]
  },
  {
   "cell_type": "code",
   "execution_count": 16,
   "id": "bae3be35",
   "metadata": {},
   "outputs": [
    {
     "data": {
      "text/html": [
       "<div>\n",
       "<style scoped>\n",
       "    .dataframe tbody tr th:only-of-type {\n",
       "        vertical-align: middle;\n",
       "    }\n",
       "\n",
       "    .dataframe tbody tr th {\n",
       "        vertical-align: top;\n",
       "    }\n",
       "\n",
       "    .dataframe thead th {\n",
       "        text-align: right;\n",
       "    }\n",
       "</style>\n",
       "<table border=\"1\" class=\"dataframe\">\n",
       "  <thead>\n",
       "    <tr style=\"text-align: right;\">\n",
       "      <th></th>\n",
       "      <th>Id</th>\n",
       "      <th>Model</th>\n",
       "      <th>Make</th>\n",
       "    </tr>\n",
       "  </thead>\n",
       "  <tbody>\n",
       "    <tr>\n",
       "      <th>0</th>\n",
       "      <td>1</td>\n",
       "      <td>'chevrolet'</td>\n",
       "      <td>'chevrolet chevelle malibu'</td>\n",
       "    </tr>\n",
       "    <tr>\n",
       "      <th>1</th>\n",
       "      <td>2</td>\n",
       "      <td>'buick'</td>\n",
       "      <td>'buick skylark 320'</td>\n",
       "    </tr>\n",
       "    <tr>\n",
       "      <th>2</th>\n",
       "      <td>3</td>\n",
       "      <td>'plymouth'</td>\n",
       "      <td>'plymouth satellite'</td>\n",
       "    </tr>\n",
       "    <tr>\n",
       "      <th>3</th>\n",
       "      <td>4</td>\n",
       "      <td>'amc'</td>\n",
       "      <td>'amc rebel sst'</td>\n",
       "    </tr>\n",
       "    <tr>\n",
       "      <th>4</th>\n",
       "      <td>5</td>\n",
       "      <td>'ford'</td>\n",
       "      <td>'ford torino'</td>\n",
       "    </tr>\n",
       "  </tbody>\n",
       "</table>\n",
       "</div>"
      ],
      "text/plain": [
       "   Id        Model                         Make\n",
       "0   1  'chevrolet'  'chevrolet chevelle malibu'\n",
       "1   2      'buick'          'buick skylark 320'\n",
       "2   3   'plymouth'         'plymouth satellite'\n",
       "3   4        'amc'              'amc rebel sst'\n",
       "4   5       'ford'                'ford torino'"
      ]
     },
     "execution_count": 16,
     "metadata": {},
     "output_type": "execute_result"
    }
   ],
   "source": [
    "df4.head(5)"
   ]
  },
  {
   "cell_type": "code",
   "execution_count": 17,
   "id": "6c575572",
   "metadata": {},
   "outputs": [
    {
     "name": "stderr",
     "output_type": "stream",
     "text": [
      "C:\\Users\\Hp\\AppData\\Local\\Temp/ipykernel_10884/2490170222.py:9: MatplotlibDeprecationWarning: Passing non-integers as three-element position specification is deprecated since 3.3 and will be removed two minor releases later.\n",
      "  plt.subplot(nGraphRow, nGraphPerRow, i + 1)\n"
     ]
    },
    {
     "data": {
      "image/png": "[encoded data removed]",
      "text/plain": [
       "<Figure size 2400x640 with 1 Axes>"
      ]
     },
     "metadata": {},
     "output_type": "display_data"
    }
   ],
   "source": [
    "plotPerColumnDistribution(df4, 10, 5)"
   ]
  },
  {
   "cell_type": "code",
   "execution_count": 18,
   "id": "390a9300",
   "metadata": {},
   "outputs": [
    {
     "name": "stdout",
     "output_type": "stream",
     "text": [
      "There are 5 rows and 2 columns\n"
     ]
    }
   ],
   "source": [
    "nRowsRead = 1000 # specify 'None' if want to read whole file\n",
    "# car-makers.csv may have more rows in reality, but we are only loading/previewing the first 1000 rows\n",
    "df5 = pd.read_csv('C:\\\\Users\\\\Hp\\\\Documents\\\\spider\\\\database\\\\car_1\\\\data_csv\\\\continents.csv', delimiter=',', nrows = nRowsRead)\n",
    "df5.dataframeName = 'continents.csv'\n",
    "nRow, nCol = df5.shape\n",
    "print(f'There are {nRow} rows and {nCol} columns')"
   ]
  },
  {
   "cell_type": "code",
   "execution_count": 19,
   "id": "5884098e",
   "metadata": {},
   "outputs": [
    {
     "data": {
      "text/html": [
       "<div>\n",
       "<style scoped>\n",
       "    .dataframe tbody tr th:only-of-type {\n",
       "        vertical-align: middle;\n",
       "    }\n",
       "\n",
       "    .dataframe tbody tr th {\n",
       "        vertical-align: top;\n",
       "    }\n",
       "\n",
       "    .dataframe thead th {\n",
       "        text-align: right;\n",
       "    }\n",
       "</style>\n",
       "<table border=\"1\" class=\"dataframe\">\n",
       "  <thead>\n",
       "    <tr style=\"text-align: right;\">\n",
       "      <th></th>\n",
       "      <th>ContId</th>\n",
       "      <th>Continent</th>\n",
       "    </tr>\n",
       "  </thead>\n",
       "  <tbody>\n",
       "    <tr>\n",
       "      <th>0</th>\n",
       "      <td>1</td>\n",
       "      <td>'america'</td>\n",
       "    </tr>\n",
       "    <tr>\n",
       "      <th>1</th>\n",
       "      <td>2</td>\n",
       "      <td>'europe'</td>\n",
       "    </tr>\n",
       "    <tr>\n",
       "      <th>2</th>\n",
       "      <td>3</td>\n",
       "      <td>'asia'</td>\n",
       "    </tr>\n",
       "    <tr>\n",
       "      <th>3</th>\n",
       "      <td>4</td>\n",
       "      <td>'africa'</td>\n",
       "    </tr>\n",
       "    <tr>\n",
       "      <th>4</th>\n",
       "      <td>5</td>\n",
       "      <td>'australia'</td>\n",
       "    </tr>\n",
       "  </tbody>\n",
       "</table>\n",
       "</div>"
      ],
      "text/plain": [
       "   ContId    Continent\n",
       "0       1    'america'\n",
       "1       2     'europe'\n",
       "2       3       'asia'\n",
       "3       4     'africa'\n",
       "4       5  'australia'"
      ]
     },
     "execution_count": 19,
     "metadata": {},
     "output_type": "execute_result"
    }
   ],
   "source": [
    "df5.head(5)"
   ]
  },
  {
   "cell_type": "code",
   "execution_count": 20,
   "id": "fc7466a9",
   "metadata": {},
   "outputs": [
    {
     "name": "stderr",
     "output_type": "stream",
     "text": [
      "C:\\Users\\Hp\\AppData\\Local\\Temp/ipykernel_10884/2490170222.py:9: MatplotlibDeprecationWarning: Passing non-integers as three-element position specification is deprecated since 3.3 and will be removed two minor releases later.\n",
      "  plt.subplot(nGraphRow, nGraphPerRow, i + 1)\n"
     ]
    },
    {
     "data": {
      "image/png": "[encoded data removed]",
      "text/plain": [
       "<Figure size 2400x768 with 2 Axes>"
      ]
     },
     "metadata": {},
     "output_type": "display_data"
    }
   ],
   "source": [
    "plotPerColumnDistribution(df5, 10, 5)"
   ]
  },
  {
   "cell_type": "code",
   "execution_count": 21,
   "id": "f325fc77",
   "metadata": {},
   "outputs": [
    {
     "name": "stdout",
     "output_type": "stream",
     "text": [
      "There are 406 rows and 8 columns\n"
     ]
    }
   ],
   "source": [
    "nRowsRead = 1000 # specify 'None' if want to read whole file\n",
    "# car-makers.csv may have more rows in reality, but we are only loading/previewing the first 1000 rows\n",
    "df6 = pd.read_csv('C:\\\\Users\\\\Hp\\\\Documents\\\\spider\\\\database\\\\car_1\\\\data_csv\\\\cars-data.csv', delimiter=',', nrows = nRowsRead)\n",
    "df6.dataframeName = 'cars-data.csv'\n",
    "nRow, nCol = df6.shape\n",
    "print(f'There are {nRow} rows and {nCol} columns')"
   ]
  },
  {
   "cell_type": "code",
   "execution_count": 22,
   "id": "43e077fc",
   "metadata": {},
   "outputs": [
    {
     "data": {
      "text/html": [
       "<div>\n",
       "<style scoped>\n",
       "    .dataframe tbody tr th:only-of-type {\n",
       "        vertical-align: middle;\n",
       "    }\n",
       "\n",
       "    .dataframe tbody tr th {\n",
       "        vertical-align: top;\n",
       "    }\n",
       "\n",
       "    .dataframe thead th {\n",
       "        text-align: right;\n",
       "    }\n",
       "</style>\n",
       "<table border=\"1\" class=\"dataframe\">\n",
       "  <thead>\n",
       "    <tr style=\"text-align: right;\">\n",
       "      <th></th>\n",
       "      <th>Id</th>\n",
       "      <th>MPG</th>\n",
       "      <th>Cylinders</th>\n",
       "      <th>Edispl</th>\n",
       "      <th>Horsepower</th>\n",
       "      <th>Weight</th>\n",
       "      <th>Accelerate</th>\n",
       "      <th>Year</th>\n",
       "    </tr>\n",
       "  </thead>\n",
       "  <tbody>\n",
       "    <tr>\n",
       "      <th>0</th>\n",
       "      <td>1</td>\n",
       "      <td>18.0</td>\n",
       "      <td>8</td>\n",
       "      <td>307.0</td>\n",
       "      <td>130.0</td>\n",
       "      <td>3504</td>\n",
       "      <td>12.0</td>\n",
       "      <td>1970</td>\n",
       "    </tr>\n",
       "    <tr>\n",
       "      <th>1</th>\n",
       "      <td>2</td>\n",
       "      <td>15.0</td>\n",
       "      <td>8</td>\n",
       "      <td>350.0</td>\n",
       "      <td>165.0</td>\n",
       "      <td>3693</td>\n",
       "      <td>11.5</td>\n",
       "      <td>1970</td>\n",
       "    </tr>\n",
       "    <tr>\n",
       "      <th>2</th>\n",
       "      <td>3</td>\n",
       "      <td>18.0</td>\n",
       "      <td>8</td>\n",
       "      <td>318.0</td>\n",
       "      <td>150.0</td>\n",
       "      <td>3436</td>\n",
       "      <td>11.0</td>\n",
       "      <td>1970</td>\n",
       "    </tr>\n",
       "    <tr>\n",
       "      <th>3</th>\n",
       "      <td>4</td>\n",
       "      <td>16.0</td>\n",
       "      <td>8</td>\n",
       "      <td>304.0</td>\n",
       "      <td>150.0</td>\n",
       "      <td>3433</td>\n",
       "      <td>12.0</td>\n",
       "      <td>1970</td>\n",
       "    </tr>\n",
       "    <tr>\n",
       "      <th>4</th>\n",
       "      <td>5</td>\n",
       "      <td>17.0</td>\n",
       "      <td>8</td>\n",
       "      <td>302.0</td>\n",
       "      <td>140.0</td>\n",
       "      <td>3449</td>\n",
       "      <td>10.5</td>\n",
       "      <td>1970</td>\n",
       "    </tr>\n",
       "  </tbody>\n",
       "</table>\n",
       "</div>"
      ],
      "text/plain": [
       "   Id   MPG  Cylinders  Edispl  Horsepower  Weight  Accelerate  Year\n",
       "0   1  18.0          8   307.0       130.0    3504        12.0  1970\n",
       "1   2  15.0          8   350.0       165.0    3693        11.5  1970\n",
       "2   3  18.0          8   318.0       150.0    3436        11.0  1970\n",
       "3   4  16.0          8   304.0       150.0    3433        12.0  1970\n",
       "4   5  17.0          8   302.0       140.0    3449        10.5  1970"
      ]
     },
     "execution_count": 22,
     "metadata": {},
     "output_type": "execute_result"
    }
   ],
   "source": [
    "df6.head(5)"
   ]
  },
  {
   "cell_type": "code",
   "execution_count": 23,
   "id": "da81c903",
   "metadata": {},
   "outputs": [
    {
     "name": "stderr",
     "output_type": "stream",
     "text": [
      "C:\\Users\\Hp\\AppData\\Local\\Temp/ipykernel_10884/2490170222.py:9: MatplotlibDeprecationWarning: Passing non-integers as three-element position specification is deprecated since 3.3 and will be removed two minor releases later.\n",
      "  plt.subplot(nGraphRow, nGraphPerRow, i + 1)\n"
     ]
    },
    {
     "data": {
      "image/png": "[encoded data removed]",
      "text/plain": [
       "<Figure size 2400x768 with 2 Axes>"
      ]
     },
     "metadata": {},
     "output_type": "display_data"
    }
   ],
   "source": [
    "plotPerColumnDistribution(df6, 10, 5)"
   ]
  }
 ],
 "metadata": {
  "kernelspec": {
   "display_name": "Python 3 (ipykernel)",
   "language": "python",
   "name": "python3"
  },
  "language_info": {
   "codemirror_mode": {
    "name": "ipython",
    "version": 3
   },
   "file_extension": ".py",
   "mimetype": "text/x-python",
   "name": "python",
   "nbconvert_exporter": "python",
   "pygments_lexer": "ipython3",
   "version": "3.9.7"
  }
 },
 "nbformat": 4,
 "nbformat_minor": 5
}
